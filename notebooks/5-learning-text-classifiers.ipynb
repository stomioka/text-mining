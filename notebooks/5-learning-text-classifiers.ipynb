{
 "cells": [
  {
   "cell_type": "markdown",
   "metadata": {},
   "source": [
    "# Using Scikit-learn\n",
    "\n",
    "## NaiveBayesClassifier\n",
    "\n",
    "![](images/mltext1.png)"
   ]
  },
  {
   "cell_type": "markdown",
   "metadata": {},
   "source": [
    "### NaiveBayesClassifier in SK learn"
   ]
  },
  {
   "cell_type": "code",
   "execution_count": 1,
   "metadata": {},
   "outputs": [],
   "source": [
    "from sklearn import naive_bayes\n",
    "\n",
    "clfrNB= naive_bayes.MultinomialNB()\n",
    "\n",
    "clfrNB.fit(train_data, train_labels)\n",
    "\n",
    "predicted_labels = clfrNB.predict(test_data)\n",
    "\n",
    "metric.f1_score(test_labels, predicted_labels, average='micro')"
   ]
  },
  {
   "cell_type": "markdown",
   "metadata": {},
   "source": [
    "* from sklearn.naive_bayes import **GaussianNB**: Gaussian Naive Bayes algorithm for classification. The likelihood of the features is assumed to be Gaussian:\n",
    "\n",
    "* **MultinomialNB** implements the naive Bayes algorithm for multinomially distributed data, and is one of the two classic naive Bayes variants used in text classification (where the data are typically represented as word vector counts, although tf-idf vectors are also known to work well in practice). \n",
    "\n",
    "* **ComplementNB** implements the complement naive Bayes (CNB) algorithm. CNB is an adaptation of the standard multinomial naive Bayes (MNB) algorithm that is particularly suited for imbalanced data sets. \n",
    "\n",
    "* **BernoulliNB** implements the naive Bayes training and classification algorithms for data that is distributed according to multivariate Bernoulli distributions; i.e., there may be multiple features but each one is assumed to be a binary-valued (Bernoulli, boolean) variable.\n",
    "\n",
    "## Using Scikit Learn's SVM Classifier"
   ]
  },
  {
   "cell_type": "code",
   "execution_count": null,
   "metadata": {},
   "outputs": [],
   "source": [
    "from sklearn import svm\n",
    "\n",
    "clfrSVM= svm.SVC(kernel='linear', C=0.1)\n",
    "\n",
    "clfrSVM.fit(train_data, train_labels)\n",
    "\n",
    "predicted_labels = clfrSVM.predict(test_data)\n",
    "\n",
    "metric.f1_score(test_labels, predicted_labels, average='micro')"
   ]
  },
  {
   "cell_type": "markdown",
   "metadata": {},
   "source": [
    " ## Model Selection\n",
    "![](images/modelselection1.png)\n"
   ]
  },
  {
   "cell_type": "markdown",
   "metadata": {},
   "source": [
    "   #### Training, validation "
   ]
  },
  {
   "cell_type": "code",
   "execution_count": null,
   "metadata": {},
   "outputs": [],
   "source": [
    "from sklearn import model_selection\n",
    "X_train, X_test, y_train, y_test =\n",
    "model_selection.train_test_split(train_data, train_labels, test_size = 0.333, random_state=0)"
   ]
  },
  {
   "cell_type": "markdown",
   "metadata": {},
   "source": [
    "![](images/modelselection2.png)\n"
   ]
  },
  {
   "cell_type": "markdown",
   "metadata": {},
   "source": [
    "   #### Cross-validation"
   ]
  },
  {
   "cell_type": "code",
   "execution_count": null,
   "metadata": {},
   "outputs": [],
   "source": [
    "predicted_labels = model_selection.cross_val_predict(clfrSVM, train_data, train_labels, cv=5)"
   ]
  },
  {
   "cell_type": "markdown",
   "metadata": {},
   "source": [
    "![](images/modelselection3.png)"
   ]
  },
  {
   "cell_type": "markdown",
   "metadata": {},
   "source": [
    "## Supervised Text Classification in NLTK\n",
    "\n",
    "* NLTK has some classification algorithms\n",
    "    * NaiveBayesClassifier\n",
    "    * DecisionTreeClassifier\n",
    "    * ConditionalExponentialClassifier\n",
    "    * MaxentClassifier\n",
    "    * WekaClassifier\n",
    "    * SklearnClassifier\n",
    "    \n",
    "  #### Using NLTK's NaiveBayesClassifier"
   ]
  },
  {
   "cell_type": "code",
   "execution_count": null,
   "metadata": {},
   "outputs": [],
   "source": [
    "from nltk.classify import NaiveBayesClassifier\n",
    "\n",
    "classifier = NaiveBayesClassifier.train(train_set)\n",
    "classifier.classify(unlabaled_instance)\n",
    "classifier.classify_many(unlabaled_instance)\n",
    "\n",
    "nltk.classify.util.accuracy(classifier,test_set)\n",
    "\n",
    "classifier.labels()\n",
    "\n",
    "classifier.show"
   ]
  },
  {
   "cell_type": "markdown",
   "metadata": {},
   "source": [
    "   #### Using NLTK's Sklearn Classifier"
   ]
  },
  {
   "cell_type": "code",
   "execution_count": null,
   "metadata": {},
   "outputs": [],
   "source": [
    "from nltk.classify import SklearnClassifier\n",
    "from sklearn.naive_bayes import MultinomialNB\n",
    "from sklearn.svm import SVC\n",
    "clfrNB = SklearnClassifier(MultinomialNB()).train(train_set)\n",
    "\n",
    "clfrSVM = SkearnClassifier(SVC(), kernel='linear').train(train_set)\n"
   ]
  }
 ],
 "metadata": {
  "kernelspec": {
   "display_name": "Python 3",
   "language": "python",
   "name": "python3"
  },
  "language_info": {
   "codemirror_mode": {
    "name": "ipython",
    "version": 3
   },
   "file_extension": ".py",
   "mimetype": "text/x-python",
   "name": "python",
   "nbconvert_exporter": "python",
   "pygments_lexer": "ipython3",
   "version": "3.6.6"
  }
 },
 "nbformat": 4,
 "nbformat_minor": 2
}
