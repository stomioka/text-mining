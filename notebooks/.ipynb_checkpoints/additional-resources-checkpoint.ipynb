{
 "cells": [
  {
   "cell_type": "markdown",
   "metadata": {},
   "source": [
    "# Additional Resources"
   ]
  },
  {
   "cell_type": "markdown",
   "metadata": {},
   "source": [
    "* Dr Chuck Severance's Coursera Specialization, [Python for Everybody](https://www.coursera.org/specializations/python)\n",
    "* [Python Docs](https://docs.python.org/3/) (for general Python documentation)\n",
    "* [Python Classes Docs](https://docs.python.org/3.5/tutorial/classes.html)\n",
    "* [Scipy](http://scipy.org/) (for [IPython](http://ipython.org/), [Numpy](http://www.numpy.org/), [Pandas](http://pandas.pydata.org/), and [Matplotlib](http://matplotlib.org/))\n",
    "* [scitkit-learn Docs](http://scikit-learn.org/stable/documentation.html)\n",
    "* [scikit-learn Cheat Sheet](https://s3.amazonaws.com/assets.datacamp.com/blog_assets/Scikit_Learn_Cheat_Sheet_Python.pdf)\n",
    "* [NLTK](http://www.nltk.org/)\n",
    "* [NLTK Book](http://www.nltk.org/book/)\n",
    "\n",
    "* [Gensim](https://radimrehurek.com/gensim/intro.html)\n",
    "* [Stack Overflow](https://stackoverflow.com/questions/tagged/scikit-learn) \n",
    "* [Cross Validated](https://stats.stackexchange.com/)"
   ]
  },
  {
   "cell_type": "markdown",
   "metadata": {},
   "source": [
    "* [Named Entity Recognition with NLTK and SpaCy](https://towardsdatascience.com/named-entity-recognition-with-nltk-and-spacy-8c4a7d88e7da)"
   ]
  },
  {
   "cell_type": "markdown",
   "metadata": {},
   "source": [
    "The primary reference for the Latent Dirichlet Allocation (LDA) is the following. The first five pages (Pg nos. 993-997) describes the model and the plate notation.David M. Blei, Andrew Y. Ng, Michael I. Jordan; Latent Dirichlet Allocation. Journal of Machine Learning Research (JMLR); 3(Jan):993-1022, 2003.http://www.jmlr.org/papers/volume3/blei03a/blei03a.pdf\n",
    "\n",
    "Also see the following Wikipedia pages on:\n",
    "\n",
    "Latent Dirichlet Allocation: https://en.wikipedia.org/wiki/Latent_Dirichlet_allocation\n",
    "Description of the plate notation: https://en.wikipedia.org/wiki/Plate_notation\n",
    "WordNet based similarity measures in NLTK: http://www.nltk.org/howto/wordnet.html"
   ]
  },
  {
   "cell_type": "code",
   "execution_count": null,
   "metadata": {},
   "outputs": [],
   "source": []
  }
 ],
 "metadata": {
  "kernelspec": {
   "display_name": "Python 3",
   "language": "python",
   "name": "python3"
  },
  "language_info": {
   "codemirror_mode": {
    "name": "ipython",
    "version": 3
   },
   "file_extension": ".py",
   "mimetype": "text/x-python",
   "name": "python",
   "nbconvert_exporter": "python",
   "pygments_lexer": "ipython3",
   "version": "3.6.6"
  }
 },
 "nbformat": 4,
 "nbformat_minor": 2
}
