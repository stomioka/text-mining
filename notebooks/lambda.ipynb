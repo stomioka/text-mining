{
 "cells": [
  {
   "cell_type": "code",
   "execution_count": null,
   "metadata": {},
   "outputs": [],
   "source": [
    "#lambda式を使わずに通常の関数を用いる場合\n",
    "def func(price,tax):\n",
    "    return price + (price * tax)\n",
    " \n",
    "payment1 = func(100,0.08)\n",
    "print(payment1)\n",
    " \n",
    "#lambda式を用いる場合\n",
    "print((lambda price,tax:price + (price * tax))(100,0.08))"
   ]
  },
  {
   "cell_type": "markdown",
   "metadata": {},
   "source": [
    "Python's lambda function can be very powerful. When leveraged with other helpful functional programming toosl you can process data effectively with very little code. Unfortunately, the logic behind the lambda function isn't always intuitive. This quick tutorial should get you moving quickly with lambdas and iterations. Baby Steps\n",
    "\n",
    "In order to understand advanced applications of lambda, it is best to start by showing a process in a simple loop. Here we are multiplying every number in x by 5 and adding that value the the list y"
   ]
  },
  {
   "cell_type": "code",
   "execution_count": 6,
   "metadata": {},
   "outputs": [],
   "source": [
    "    x = [2, 3, 4, 5, 6]\n",
    "    y = []\n",
    "    for v in x :\n",
    "        y += [v * 5]\n",
    "    assert x == [ 2,  3,  4,  5,  6]\n",
    "    assert y == [10, 15, 20, 25, 30]"
   ]
  },
  {
   "cell_type": "markdown",
   "metadata": {},
   "source": [
    "Simple enough right? Now lets try and recreate that process using a list comprehension."
   ]
  },
  {
   "cell_type": "code",
   "execution_count": 7,
   "metadata": {},
   "outputs": [
    {
     "data": {
      "text/plain": [
       "[10, 15, 20, 25, 30]"
      ]
     },
     "execution_count": 7,
     "metadata": {},
     "output_type": "execute_result"
    }
   ],
   "source": [
    "    x = [2, 3, 4, 5, 6]\n",
    "    y = [v * 5 for v in x]\n",
    "    y"
   ]
  },
  {
   "cell_type": "markdown",
   "metadata": {},
   "source": [
    "Taking it a step further, we can do the same thing using the popular combination of lambda and map()."
   ]
  },
  {
   "cell_type": "code",
   "execution_count": 8,
   "metadata": {},
   "outputs": [
    {
     "data": {
      "text/plain": [
       "[10, 15, 20, 25, 30]"
      ]
     },
     "execution_count": 8,
     "metadata": {},
     "output_type": "execute_result"
    }
   ],
   "source": [
    "x = [2, 3, 4, 5, 6]\n",
    "y = map(lambda v : v * 5, x)\n",
    "list(y)"
   ]
  },
  {
   "cell_type": "code",
   "execution_count": null,
   "metadata": {},
   "outputs": [],
   "source": []
  }
 ],
 "metadata": {
  "kernelspec": {
   "display_name": "Python 3",
   "language": "python",
   "name": "python3"
  },
  "language_info": {
   "codemirror_mode": {
    "name": "ipython",
    "version": 3
   },
   "file_extension": ".py",
   "mimetype": "text/x-python",
   "name": "python",
   "nbconvert_exporter": "python",
   "pygments_lexer": "ipython3",
   "version": "3.6.6"
  }
 },
 "nbformat": 4,
 "nbformat_minor": 2
}
