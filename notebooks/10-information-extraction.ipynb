{
 "cells": [
  {
   "cell_type": "markdown",
   "metadata": {},
   "source": [
    "# Information Extraction\n",
    "## Information is hidden in free-text\n",
    "   * Most traditional tranactional information is structured\n",
    "   * Abundance of unstructured, freeform text (80%)\n",
    "   * How to convert unstructured text to structured form? How to extract relevant information?\n",
    "   \n",
    "## Information Extraction\n",
    "\n",
    "* Goal: identify and extract fields of interest from free text\\\n",
    "\n",
    "![](images/infoextract1.png)\n",
    "![](images/infoextract2.png)\n",
    "[WebMD Article](https://www.webmd.com/lung-cancer/news/20090924/erbitux-helps-treat-advanced-lung-cancer#1)\n",
    "\n",
    "\n",
    "* **Title** \"Advanced\" could be dropped from the title of the article *Erbitux Helps Treat Lung Cancer*\n",
    "* **Author** Charlene Laino\n",
    "* **Reviewer** Louise Chang, MD\n",
    "* **Published** Sept. 23, 2009\n",
    "* **Place** Berlin\n",
    "\n",
    "##Fields of Interest\n",
    "* Named entities\n",
    "    * [News] Peoplem Places, Dates, ...\n",
    "    * [Finance] Money, Companies, ...\n",
    "    * [Medicine] Diseases, Drug, Procedures\n",
    "* Relations\n",
    "    * What happened to who, when , where\n",
    " \n",
    "## Named Entity Recognition\n",
    "* **Named entities**: Noun phrases that are of specific type and refer tos pecific individuals, places, organizations, ...\n",
    "* **Named Entity Recognition**: Techniques(s) to identify all mentions of pre-defined named entities in text\n",
    "    * Identify the mention/phrase: *Boundary detection*\n",
    "    * Identify the type: Tagging/Classification\n",
    "\n",
    "## Example\n",
    "![](images/infoextract3.png)\n",
    "\n",
    "* Name of the diseases or symptoms\n",
    "\n",
    "![](images/infoextract4.png)\n",
    "\n",
    "* Age\n",
    "* Gender\n",
    "* Medical Speciality\n",
    "* Procedures\n",
    "\n",
    "![](images/infoextract5.png)\n",
    "\n",
    "* Bosy Parts\n",
    "\n",
    "![](images/infoextract6.png)"
   ]
  },
  {
   "cell_type": "markdown",
   "metadata": {},
   "source": [
    "* [Named Entity Recognition with NLTK and SpaCy](https://towardsdatascience.com/named-entity-recognition-with-nltk-and-spacy-8c4a7d88e7da)"
   ]
  },
  {
   "cell_type": "markdown",
   "metadata": {},
   "source": [
    "## Approaches to identify named entities\n",
    "* Depends on kinds of entities that need to be identified\n",
    "* For well-formatted fields like date, phone numbers: Regular expressions\n",
    "* For other fields: Typically ML approach\n",
    "\n",
    "## Person, Organization, Location/GPE\n",
    "\n",
    "* Standard NER task in NLP research community\n",
    "* Typically a four-class mdoel\n",
    "    * PER - person\n",
    "    * ORG - orgamization, \n",
    "    * LOC/GPE - location\n",
    "    * Other / Outside (any other class)\n",
    "    \n",
    "## Relation Extraction\n",
    "* Identify relationships between named entities\n",
    "\n",
    "*Efbitux helps treat ling cancer*\n",
    "\n",
    "![](images/infoextract7.png)\n",
    "\n",
    "## Co-reference resolution\n",
    "* Disambiguate mentions and group mentions together\n",
    "\n",
    "Example: *Anita met Joseph at the market. He surprised her with a rose*\n",
    "\n",
    "![](images/infoextract8.png)\n",
    "\n",
    "## Question Answering\n",
    "* Given a question, find the most appropriate answer from the text\n",
    "    * What does Erbitux treat?"
   ]
  },
  {
   "cell_type": "code",
   "execution_count": null,
   "metadata": {},
   "outputs": [],
   "source": []
  }
 ],
 "metadata": {
  "kernelspec": {
   "display_name": "Python 3",
   "language": "python",
   "name": "python3"
  },
  "language_info": {
   "codemirror_mode": {
    "name": "ipython",
    "version": 3
   },
   "file_extension": ".py",
   "mimetype": "text/x-python",
   "name": "python",
   "nbconvert_exporter": "python",
   "pygments_lexer": "ipython3",
   "version": "3.6.6"
  }
 },
 "nbformat": 4,
 "nbformat_minor": 2
}
